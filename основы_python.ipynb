{
  "cells": [
    {
      "cell_type": "markdown",
      "metadata": {
        "id": "M-DGa20PaHnu"
      },
      "source": [
        "#Задача 1\n",
        "Написать функцию на вход которой подается строка, состоящая из латинских букв.\n",
        "Функция должна вернуть количество гласных букв (a, e, i, o, u) в этой строке. Написать тесты для кода"
      ]
    },
    {
      "cell_type": "code",
      "execution_count": 1,
      "metadata": {
        "id": "XvX8X_JJ6PCb"
      },
      "outputs": [
        {
          "name": "stdout",
          "output_type": "stream",
          "text": [
            "1\n",
            "2\n",
            "15\n"
          ]
        }
      ],
      "source": [
        "def count_letters(s):\n",
        "    return s.count(\"a\") + s.count(\"e\") + s.count(\"i\") + s.count(\"o\") + s.count(\"u\")\n",
        "\n",
        "s = \"dog\"\n",
        "print(count_letters(s))\n",
        "\n",
        "s = \"apple\"\n",
        "print(count_letters(s))\n",
        "\n",
        "s = \"ai ai ai ou ou ou e e e\"\n",
        "print(count_letters(s))\n"
      ]
    },
    {
      "cell_type": "markdown",
      "metadata": {
        "id": "t2ClV_Y0bbr6"
      },
      "source": [
        "# Задача 2\n",
        "Написать функцию на вход, которой подается строка. Функция должна вернуть true, если\n",
        "каждый символ в строке встречается только 1 раз, иначе должна вернуть false. Написать тесты для кода"
      ]
    },
    {
      "cell_type": "code",
      "execution_count": 5,
      "metadata": {
        "id": "FppbECao6VIz"
      },
      "outputs": [
        {
          "name": "stdout",
          "output_type": "stream",
          "text": [
            "False\n",
            "True\n",
            "True\n",
            "False\n"
          ]
        }
      ],
      "source": [
        "def isOne(s): \n",
        "    mass = set()\n",
        "    for k in s: \n",
        "        if k in mass: \n",
        "            return False\n",
        "        mass.add(k)\n",
        "    return True\n",
        "\n",
        "\n",
        "print(isOne(\"aabc\"))\n",
        "print(isOne(\"abc\"))\n",
        "print(isOne(\"are u_ok?\"))\n",
        "print(isOne(\"No i am not )\"))"
      ]
    },
    {
      "cell_type": "markdown",
      "metadata": {
        "id": "udRiIK1cdt6E"
      },
      "source": [
        "# Задача 3\n",
        "Написать функцию, которая принимает положительное число и возвращает количество\n",
        "бит равных 1 в этом числе. Написать тесты для кода"
      ]
    },
    {
      "cell_type": "code",
      "execution_count": null,
      "metadata": {
        "id": "6tkfDJRz6dp_"
      },
      "outputs": [
        {
          "name": "stdout",
          "output_type": "stream",
          "text": [
            "0\n",
            "1\n",
            "1\n",
            "2\n",
            "1\n"
          ]
        }
      ],
      "source": [
        "def countBit(i):\n",
        "    s = str(bin(i)[2:])\n",
        "    count = 0\n",
        "    for k in s:\n",
        "        if k == \"1\":\n",
        "            count += 1\n",
        "    return count\n",
        "\n",
        "print(countBit(0))        # 0 \n",
        "print(countBit(1))        # 1 \n",
        "print(countBit(2))        # 10\n",
        "print(countBit(3))        # 11 \n",
        "print(countBit(4))        # 100"
      ]
    },
    {
      "cell_type": "markdown",
      "metadata": {
        "id": "26dDUz-Ae17N"
      },
      "source": [
        "# Задача 4\n",
        "Написать функцию, которая принимает положительное число. Функция должна вернуть то,\n",
        "сколько раз необходимо перемножать цифры числа или результат перемножения, чтобы\n",
        "получилось число состоящее из одной цифры.\n",
        "Например, для входного числа:\n",
        "· 39 функция должна вернуть 3, так как 3*9=27 => 2*7=14 => 1*4=4\n",
        "· 4 функция должна вернуть 0, так как число уже состоит из одной цифры\n",
        "· 999 функция должна вернуть 4, так как 9*9*9=729 => 7*2*9=126 => 1*2*6=12 =>\n",
        "1*2=2. Написать тесты для кода"
      ]
    },
    {
      "cell_type": "code",
      "execution_count": 19,
      "metadata": {
        "id": "BH1A_Mgi6i4G"
      },
      "outputs": [
        {
          "name": "stdout",
          "output_type": "stream",
          "text": [
            "3\n",
            "4\n",
            "0\n",
            "2\n"
          ]
        }
      ],
      "source": [
        "def func(i):\n",
        "    i = str(i)\n",
        "    total = 0\n",
        "    while len(i) != 1: \n",
        "        i = str(i)\n",
        "        count = 1\n",
        "        for k in i:\n",
        "            count *= int(k)\n",
        "        i = str(count)\n",
        "        total += 1\n",
        "    return total\n",
        "\n",
        "print(func(39))\n",
        "print(func(999))\n",
        "print(func(4))\n",
        "print(func(25))"
      ]
    },
    {
      "cell_type": "markdown",
      "metadata": {
        "id": "0nS-kIa8g8vd"
      },
      "source": [
        "# Задача 5\n",
        "Написать функцию, которая принимает два целочисленных вектора одинаковой длины и\n",
        "возвращает среднеквадратическое отклонение двух векторов. Написать тесты для кода"
      ]
    },
    {
      "cell_type": "code",
      "execution_count": 20,
      "metadata": {
        "id": "8iphx4LM6xbx"
      },
      "outputs": [
        {
          "name": "stdout",
          "output_type": "stream",
          "text": [
            "0.0\n",
            "0.6666666666666666\n",
            "9.0\n"
          ]
        }
      ],
      "source": [
        "def mse(pred, true):\n",
        "    if len(pred) != len(true):\n",
        "        return -1\n",
        "    \n",
        "    total = 0\n",
        "    for i in range(len(pred)):\n",
        "        error = pred[i] - true[i]\n",
        "        total += error ** 2\n",
        "    return total / len(pred)\n",
        "\n",
        "\n",
        "print(mse([1, 2, 3], [1, 2, 3]))  \n",
        "print(mse([1, 2, 3], [2, 2, 2]))     \n",
        "print(mse([3, 3, 3], [0, 0, 0]))"
      ]
    },
    {
      "cell_type": "markdown",
      "metadata": {
        "id": "vpIPKL439zkw"
      },
      "source": [
        "# Задача 6\n",
        "Написать функцию, принимающая целое положительное число. Функция должна вернуть\n",
        "строку вида “(n1**p1)(n2**p2)…(nk**pk)” представляющая разложение числа на простые\n",
        "множители (если pi == 1, то выводить только ni).\n",
        "Например, для числа 86240 функция должна вернуть “(2**5)(5)(7**2)(11)”. Написать тесты для кода"
      ]
    },
    {
      "cell_type": "code",
      "execution_count": 22,
      "metadata": {
        "id": "pFebmcZk94Jw"
      },
      "outputs": [
        {
          "name": "stdout",
          "output_type": "stream",
          "text": [
            "(2**2)(5**2)\n",
            "\n",
            "(2**2)(3)\n"
          ]
        }
      ],
      "source": [
        "def func(n):\n",
        "    total = []\n",
        "    d = 2\n",
        "    while d * d <= n:\n",
        "        count = 0\n",
        "        while n % d == 0:\n",
        "            n //= d\n",
        "            count += 1\n",
        "        if count > 0:\n",
        "            total.append((d, count))\n",
        "        d += 1\n",
        "    if n > 1:\n",
        "        total.append((n, 1))\n",
        "\n",
        "    result = ''\n",
        "    for k, j in total:\n",
        "        if j == 1:\n",
        "            result += f'({k})'\n",
        "        else:\n",
        "            result += f'({k}**{j})'\n",
        "    return result\n",
        "\n",
        "\n",
        "print(func(100))\n",
        "print(func(1))\n",
        "print(func(12))"
      ]
    },
    {
      "cell_type": "markdown",
      "metadata": {
        "id": "ps2s0BudX7A2"
      },
      "source": [
        "# Задача 7\n",
        "Написать функцию, принимающая целое число n, задающее количество кубиков. Функция\n",
        "должна определить, можно ли из данного кол-ва кубиков построить пирамиду, то есть\n",
        "можно ли представить число n как 1^2+2^2+3^2+…+k^2. Если можно, то функция должна\n",
        "вернуть k, иначе строку “It is impossible”. Написать тесты для кода"
      ]
    },
    {
      "cell_type": "code",
      "execution_count": 24,
      "metadata": {
        "id": "3YPjEXxhX_YT"
      },
      "outputs": [
        {
          "name": "stdout",
          "output_type": "stream",
          "text": [
            "It is impossible\n",
            "1\n",
            "It is impossible\n",
            "4\n"
          ]
        }
      ],
      "source": [
        "def pyramid(number):\n",
        "    if number <= 0:\n",
        "        return \"It is impossible\"\n",
        "    total = 0\n",
        "    k = 0\n",
        "    while total < number:\n",
        "        k += 1\n",
        "        total += k ** 2\n",
        "    if total == number:\n",
        "        return k\n",
        "    else:\n",
        "        return \"It is impossible\"\n",
        "    \n",
        "print(pyramid(0)) \n",
        "print(pyramid(1))\n",
        "print(pyramid(20))\n",
        "print(pyramid(30))"
      ]
    },
    {
      "cell_type": "markdown",
      "metadata": {
        "id": "KeKgmIdAQMEJ"
      },
      "source": [
        "# Задача 8\n",
        "Функция принимает на вход положительное число и определяет является ли оно сбалансированным, т.е. сумма цифр до средних равна сумме цифр после. Средними в случае нечетного числа цифр считать одну цифру, в случае четного - две средних. Написать тесты для кода"
      ]
    },
    {
      "cell_type": "code",
      "execution_count": 27,
      "metadata": {
        "id": "gMAAqtqlQrZt"
      },
      "outputs": [
        {
          "name": "stdout",
          "output_type": "stream",
          "text": [
            "True\n",
            "True\n",
            "True\n",
            "False\n",
            "False\n"
          ]
        }
      ],
      "source": [
        "def isBalanced(number):\n",
        "    s = str(number)\n",
        "    length = len(s)\n",
        "\n",
        "    if length % 2 == 0:\n",
        "        left = s[:length//2 - 1]\n",
        "        right = s[length//2 + 1:]\n",
        "    else:\n",
        "        left = s[:length//2]\n",
        "        right = s[length//2 + 1:]\n",
        "\n",
        "    sum_left = sum(int(ch) for ch in left)\n",
        "    sum_right = sum(int(ch) for ch in right)\n",
        "\n",
        "    return sum_left == sum_right\n",
        "\n",
        "\n",
        "print(isBalanced(11))\n",
        "print(isBalanced(111))\n",
        "print(isBalanced(123321))\n",
        "print(isBalanced(1113))\n",
        "print(isBalanced(3245))"
      ]
    }
  ],
  "metadata": {
    "colab": {
      "provenance": []
    },
    "kernelspec": {
      "display_name": "Python 3",
      "name": "python3"
    },
    "language_info": {
      "codemirror_mode": {
        "name": "ipython",
        "version": 3
      },
      "file_extension": ".py",
      "mimetype": "text/x-python",
      "name": "python",
      "nbconvert_exporter": "python",
      "pygments_lexer": "ipython3",
      "version": "3.13.2"
    }
  },
  "nbformat": 4,
  "nbformat_minor": 0
}
